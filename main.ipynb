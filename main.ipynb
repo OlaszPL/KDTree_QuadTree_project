{
 "cells": [
  {
   "cell_type": "code",
   "execution_count": 1,
   "metadata": {},
   "outputs": [],
   "source": [
    "# Struktury oraz moduły\n",
    "from kdtree.kdtree import KDtree\n",
    "from kdtree.kdtree_test import runtests\n",
    "from kdtree.kdtree_visualizer import KDtreeVisualizer, visualize_queried_points\n",
    "from quadtree.quad import Quad\n",
    "from automatic_tests import runtests_all\n",
    "from gui_creator import create_gui\n",
    "from visualizer.main import Visualizer\n",
    "import generators\n",
    "\n",
    "# Pozostałe biblioteki\n",
    "import numpy as np\n",
    "import pandas as pd\n",
    "import matplotlib.pyplot as plt\n",
    "np.set_printoptions(legacy='1.25')"
   ]
  },
  {
   "cell_type": "markdown",
   "metadata": {},
   "source": [
    "### Wprowadzenie\n",
    "\n",
    "Ten plik Jupyter Notebook został stworzony, aby zapewnić wygodny interfejs do prezentacji oraz wizualizacji funkcjonowania KD-tree i QuadTree. Posłuży on także jako narzędzie do przetestowania poprawności implementacji powyższych struktur oraz porównania ich efektywności dla poszczególnych zbiorów danych. Kod poszczególnych struktur i modułów znajduje się w plikach źródłowych. Szczegóły dotyczące implementacji obu drzew oraz instrukcja dotycząca ich wykorzystania przez użytkownika, zostały zamieszczone w dokumentacji do projektu."
   ]
  },
  {
   "cell_type": "markdown",
   "metadata": {},
   "source": [
    "### Testy poprawności implementacji\n",
    "Na początek sprawdzimy, czy implementacja KD-tree przechodzi zdefiniowane ręcznie testy jednostkowe (dla wielu wymiarów). Zbiory testowe zawarte są w pliku kdtree_tests.py, który stanowi część pakietu kdtree."
   ]
  },
  {
   "cell_type": "code",
   "execution_count": 2,
   "metadata": {},
   "outputs": [
    {
     "name": "stdout",
     "output_type": "stream",
     "text": [
      "Test 0: zaliczony!\n",
      "Test 1: zaliczony!\n",
      "Test 2: zaliczony!\n",
      "Test 3: zaliczony!\n",
      "Test 4: zaliczony!\n",
      "Test 5: zaliczony!\n",
      "Test 6: zaliczony!\n",
      "Test 7: zaliczony!\n",
      "Test 8: zaliczony!\n",
      "Test 9: zaliczony!\n"
     ]
    }
   ],
   "source": [
    "# KD-tree test\n",
    "runtests()"
   ]
  },
  {
   "cell_type": "markdown",
   "metadata": {},
   "source": [
    "Następnie wykonamy testy integralnościowe obu struktur danych. W tym celu zostaną wygenerowane zbiory testowe o różnych charakterystykach i licznościach. Wyniki zapytań będą porównywane pomiędzy algorytmami - w przypadku niezgodności zostanie wypisany stosowny komunikat. Szczegóły dotyczące generowania zbiorów testowych zawarte są w pliku automatic_tests.py."
   ]
  },
  {
   "cell_type": "code",
   "execution_count": 3,
   "metadata": {},
   "outputs": [
    {
     "name": "stdout",
     "output_type": "stream",
     "text": [
      "Testy zaliczone!\n"
     ]
    }
   ],
   "source": [
    "# Testy integracyjne\n",
    "runtests_all()"
   ]
  },
  {
   "cell_type": "markdown",
   "metadata": {},
   "source": [
    "### Graficzne zadawanie punktów oraz obszaru wyszukiwania\n",
    "W celu interaktywnej prezentacji budowania drzew oraz ich przeszukiwania, udostępniono narzędzie graficzne służace do zadawania punktów na płaszyczyznie oraz obszaru wyszukiwania. Na początku należy zadać przynajmniej jeden punkt na płaszczyźnie. Następnie nacisnąć przycisk \"next\" oraz zadać dwa punkty reprezentujące zakres wyszukiwania: lewy dolny oraz prawy górny. Na ich podstawie zostanie narysowany prostokąt reprezentujący przestrzeń, o którą będziemy wykonywać zapytanie. Narzędzie zwraca krotkę w postaci listy punktów, punkt lewy dolny oraz punkt prawy górny."
   ]
  },
  {
   "cell_type": "code",
   "execution_count": 2,
   "metadata": {},
   "outputs": [],
   "source": [
    "# Zadaj punkty oraz obszar wyszukiwania\n",
    "%matplotlib tk\n",
    "points, lower_left, upper_right = create_gui()\n",
    "%matplotlib inline"
   ]
  }
 ],
 "metadata": {
  "kernelspec": {
   "display_name": "Python 3",
   "language": "python",
   "name": "python3"
  },
  "language_info": {
   "codemirror_mode": {
    "name": "ipython",
    "version": 3
   },
   "file_extension": ".py",
   "mimetype": "text/x-python",
   "name": "python",
   "nbconvert_exporter": "python",
   "pygments_lexer": "ipython3",
   "version": "3.13.1"
  }
 },
 "nbformat": 4,
 "nbformat_minor": 2
}
